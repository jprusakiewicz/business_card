{
 "cells": [
  {
   "cell_type": "markdown",
   "metadata": {},
   "source": [
    "## upload whole folder"
   ]
  },
  {
   "cell_type": "code",
   "execution_count": 2,
   "metadata": {},
   "outputs": [],
   "source": [
    "import os\n",
    "from os.path import isfile, join\n",
    "import requests"
   ]
  },
  {
   "cell_type": "code",
   "execution_count": null,
   "metadata": {},
   "outputs": [],
   "source": [
    "DIR = '../with_handwrighting_cards'\n",
    "#print(len([name for name in os.listdir(DIR) if os.path.isfile(os.path.join(DIR, name))]))\n",
    "files_names = [f for f in os.listdir(DIR) if isfile(join(DIR, f))]\n",
    "files_names.sort()\n",
    "for file in files_names[2:3]:\n",
    "    print(file)\n",
    "    #img = cv2.imread('../regular_photos/'+files_names[1]) \n",
    "    file_path = os.path.join(DIR, file)\n",
    "    with open(file_path, 'rb') as f:\n",
    "        bc = f.read()\n",
    "        dat = {'file': bc}\n",
    "        req = requests.post('http://10.1.1.102:5000/ocr', files=dat)\n",
    "        with open(file_path + '.pdf', 'wb') as fw:\n",
    "              fw.write(req.content)\n",
    "        \n",
    "              "
   ]
  },
  {
   "cell_type": "markdown",
   "metadata": {},
   "source": [
    "## upload one file"
   ]
  },
  {
   "cell_type": "code",
   "execution_count": 3,
   "metadata": {},
   "outputs": [],
   "source": [
    "DIR = 'tests/test6/'\n",
    "file_path = os.path.join(DIR, 'test6.2.JPG')\n",
    "with open(file_path, 'rb') as f:\n",
    "    bc = f.read()\n",
    "    dat = {'file': bc}\n",
    "    req = requests.post('http://localhost:5000/ocr', files=dat)\n",
    "    with open(file_path + '.pdf', 'wb') as fw:\n",
    "          fw.write(req.content)"
   ]
  },
  {
   "cell_type": "code",
   "execution_count": null,
   "metadata": {},
   "outputs": [],
   "source": []
  }
 ],
 "metadata": {
  "kernelspec": {
   "display_name": "Python 3",
   "language": "python",
   "name": "python3"
  },
  "language_info": {
   "codemirror_mode": {
    "name": "ipython",
    "version": 3
   },
   "file_extension": ".py",
   "mimetype": "text/x-python",
   "name": "python",
   "nbconvert_exporter": "python",
   "pygments_lexer": "ipython3",
   "version": "3.7.3"
  }
 },
 "nbformat": 4,
 "nbformat_minor": 2
}
